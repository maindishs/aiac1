{
  "nbformat": 4,
  "nbformat_minor": 0,
  "metadata": {
    "colab": {
      "name": "4주차 과제.ipynb",
      "provenance": [],
      "collapsed_sections": [],
      "include_colab_link": true
    },
    "kernelspec": {
      "name": "python3",
      "display_name": "Python 3"
    }
  },
  "cells": [
    {
      "cell_type": "markdown",
      "metadata": {
        "id": "view-in-github",
        "colab_type": "text"
      },
      "source": [
        "<a href=\"https://colab.research.google.com/github/maindishs/aiac1/blob/master/4%EC%A3%BC%EC%B0%A8_%EA%B3%BC%EC%A0%9C.ipynb\" target=\"_parent\"><img src=\"https://colab.research.google.com/assets/colab-badge.svg\" alt=\"Open In Colab\"/></a>"
      ]
    },
    {
      "cell_type": "markdown",
      "metadata": {
        "id": "wxkL6PjwsI6L",
        "colab_type": "text"
      },
      "source": [
        "# 4주차 과제\n",
        "- 용어 정리\n",
        "- 딥러닝 강의 클론 코딩\n",
        "- 딥러닝 순전파 & 역전파 계산"
      ]
    },
    {
      "cell_type": "markdown",
      "metadata": {
        "id": "ixEtDe6_uGgI",
        "colab_type": "text"
      },
      "source": [
        "## 1. 용어 정리\n",
        "\n",
        "다음 제시된 단어의 정의(설명)를 정리하여 작성 하세요.\n",
        "\n",
        "* 2문장 이상 작성 해 주세요. \n",
        "* 주제(단어)와 크게 벗어나지만 않는다면 정답처리 됩니다.\n",
        "* 강의 뿐 아니라 기타 레퍼런스를 참고하여 작성하셔도 됩니다. (기타 레퍼런스를 참고하신 경우, 해당 레퍼런스를 정리하여 하단에 작성해 주세요.)\n"
      ]
    },
    {
      "cell_type": "markdown",
      "metadata": {
        "id": "0lfwat8eurKZ",
        "colab_type": "text"
      },
      "source": [
        "__(예시)__\n",
        "### 심층 신경망\n",
        ": 입력층과 출력층 사이에 여러 개의 은닉층들로 이뤄진 인공신경망이다. 심층 신경망은 일반적으로 인공신경망과 마찬가지로 복잡한 비선형 관계들을 모델링 할 수 있다. 신층신경망의 목적은 분류 및 수치예측을 하기 위함이고 이미지 트레이닝이나 문자인식과 같은 분야에서 매우 유용하게 쓰이고 있다."
      ]
    },
    {
      "cell_type": "markdown",
      "metadata": {
        "id": "Y8YJNKG_v65A",
        "colab_type": "text"
      },
      "source": [
        "### MCP 뉴런\n",
        ": ai를 설계하기 위해 생물학적 뇌가 동작하는 방식을 이해하려는 시도로 1943년 워랜 맥컬룩 과 월터 피츠는 처음으로 간소화된 뇌의 뉴런 개념을 발표했다.\n",
        "이를 맥컬룩-피츠 뉴런 MCP 이라 한다. \n",
        "뉴런들은 뇌의 신경세포와 서로 연결되어있으며 화학적 전기적 신호를 처리하고 전달하는데 관여 한다.\n",
        "맥컬룩과 피츠는 이러한 신경세포를 이진출력을 내는 간단한 논리 회로로 표현했다.\n",
        "\n",
        "### 퍼셉트론\n",
        ": Frank Rosenblatt 은 MCP뉴련 모델을 기반으로 1957 Perceptron 학습개념을 발표.퍼셉트론 규칙에서 자동으로 최적의 가중치를 학습하는 알고리즘을 제안한다.\n",
        "이 가중치는 뉴련의 출력 신호를 낼지 말지를 결정하기 위해 입력 특성에 곱하는 계수가 된다.퍼셉트론을 간단하게 표현하면 입력을 받아서 계산후 출력을 반환하는 구조로 나타낼수 있다.\n",
        "\n",
        "### 역전파\n",
        ": 신경망의 역전파는 뉴런의 가중치를 효율적으로 조정하기 위하여 거꾸로 무엇인가를 전파하는 방식이다. 즉 역전파는 출력 값과 지도 데이터 사이에 생기는 '오차' 를 이용해 출력층에서 입력층 쪽으로 가중치를 조정하는것이다. 이러한 역전파는 경사하강법을 사용하는것이기도 하다. 이렇게 역전파를 활용하게되면 신경망의 출력값부터 차례로 이전 노드 값이 정해지게 된다.\n",
        "\n",
        "### 강화학습\n",
        ": 강화학습은 에이전트라는 존재가 환경과 상호작용하며, 이 환경에는 보상이라는 기준이 있어서 다양한 시행착오를 겪어가며 보상을 최대하는 방향으로 학습을 진행하는것이다. 즉 보상을 최대화 하는 의사결정 전략,순차적인 행동들을 알아나가는 방법이다. 강화학습은 비교적 명확한 보상을 설정할 수 있는 문제를 해결하는데 사용되고 있다.\n",
        "\n",
        "### 과적합\n",
        ": 머신러닝이나 딥러닝 분야에서 모델을 만드는데, 모델에 학습데이터를 과하게 학습 시키는 것을 말합니다.\n",
        "모델은 학습데이터에 좋은 성능을 나타내고, 오차가 줄어들 수 있겠지만 학습 데이터가 아닌 새로운 데이터에 대해서는 좋지 않는 성능을 나타내고, 오차가 커지게 됩니다. 즉,학습 데이터에 신뢰를 하여 모델에 과하게 적합을 하면, 일반화의 성능이 떨어지게 됩니다. \n",
        "이 과학습을 피하는 방법중 하나는 정규화 해주는것이다. \n",
        "\n",
        "[과적합 출처](https://yongku.tistory.com/entry/딥러닝과-머신러닝-과적합Overfitting-과적합Overfitting-확인해보기 )  \n",
        "\n",
        "### 차원의 저주\n",
        ": 고정된 크기의 훈련 데이터셋이 차원이 늘어남에 따라 특성공간도 점점 희소해 지는현상. 즉 차원이 증가할수록 데이터의 분포 분석 또는 모델추정에 필요한 샘플 데이터의 개수가 기하급수적으로 증가하게 되는데 이러한 어려움을 표현한 용어가 '차원의 저주'이다. 이 차원의 저주를 피하기 위해서는 올바른 변수선택 과 차원 축소기법 등을 사용해 주면 된다.     \n",
        "\n",
        "[차원의 저주 참고](https://m.blog.naver.com/PostView.nhn?blogId=worb1605&logNo=221335161506&proxyReferer=https:%2F%2Fwww.google.com%2F)\n"
      ]
    },
    {
      "cell_type": "markdown",
      "metadata": {
        "id": "d-zfFXLCy6jD",
        "colab_type": "text"
      },
      "source": [
        "## 2. 딥러닝 강의 클론 코딩\n",
        "\n",
        "####__퍼셉트론 구조 구현하기__ \n",
        "딥러닝 강의(__딥러닝 원리[1] 3:15 ~ 5:15 부분__)를 보고 코드를 따라 치며 출력 결과를 만드세요.\n",
        " \n",
        "\n",
        "* 하나의 코드셀에 해당 코드를 한번에 다 적어서 실행해주세요 (__그렇게 하지 않을 경우, 아래 이미지와 같은 출력값이 나오지 않을 수 있습니다__)\n",
        "\n",
        "*__주의!__ 실제로 코딩해서 출력해보면 강의에 나온 출력 결과와 다르게 나옵니다!!\n"
      ]
    },
    {
      "cell_type": "code",
      "metadata": {
        "id": "CYKX0uyws4EV",
        "colab_type": "code",
        "outputId": "ed472425-403e-46c3-abb5-c7ca89c0b109",
        "colab": {
          "base_uri": "https://localhost:8080/",
          "height": 254
        }
      },
      "source": [
        "import tensorflow as tf\n",
        "tf.compat.v1.set_random_seed(2020)\n",
        "x = 1\n",
        "y = 0 \n",
        "w = tf.random.normal([1],0,1)\n",
        "\n",
        "import math\n",
        "def sigmoid(x):\n",
        "  return 1/(1+math.exp(-x))\n",
        "\n",
        "output = sigmoid(x*w)\n",
        "print(output,'\\n\\n')\n",
        "\n",
        "\n",
        "for i in range(1000):\n",
        "  output = sigmoid(x*w)\n",
        "  error = y - output\n",
        "  w = w + x*0.1*error  # 경사하강법\n",
        "\n",
        "  if i % 100 == 99 :\n",
        "    print(\"학습 횟수: \",i, \"Error: \",error, \"예측결과: \",output)"
      ],
      "execution_count": 0,
      "outputs": [
        {
          "output_type": "stream",
          "text": [
            "0.47477188589261 \n",
            "\n",
            "\n",
            "학습 횟수:  99 Error:  -0.10010598284299604 예측결과:  0.10010598284299604\n",
            "학습 횟수:  199 Error:  -0.05178399422833116 예측결과:  0.05178399422833116\n",
            "학습 횟수:  299 Error:  -0.034590451977903586 예측결과:  0.034590451977903586\n",
            "학습 횟수:  399 Error:  -0.02588962752851373 예측결과:  0.02588962752851373\n",
            "학습 횟수:  499 Error:  -0.020658699939863617 예측결과:  0.020658699939863617\n",
            "학습 횟수:  599 Error:  -0.017174253993457355 예측결과:  0.017174253993457355\n",
            "학습 횟수:  699 Error:  -0.014689506449480992 예측결과:  0.014689506449480992\n",
            "학습 횟수:  799 Error:  -0.012829497265431342 예측결과:  0.012829497265431342\n",
            "학습 횟수:  899 Error:  -0.011385568271837804 예측결과:  0.011385568271837804\n",
            "학습 횟수:  999 Error:  -0.010232493309882492 예측결과:  0.010232493309882492\n"
          ],
          "name": "stdout"
        }
      ]
    },
    {
      "cell_type": "markdown",
      "metadata": {
        "id": "wcc5mzI9oZ7r",
        "colab_type": "text"
      },
      "source": [
        "![대체 텍스트](https://www.notion.so/image/https%3A%2F%2Fs3-us-west-2.amazonaws.com%2Fsecure.notion-static.com%2F0cceeed0-0235-4b0f-af88-0b8c377d5b4b%2F_2020-06-09__9.35.23.png?table=block&id=88fd8912-9356-49a4-9fda-a1a63fe96ea9&width=2870&cache=v2)"
      ]
    },
    {
      "cell_type": "markdown",
      "metadata": {
        "id": "kr0HVRk8fOom",
        "colab_type": "text"
      },
      "source": [
        "## 3. 딥러닝 순전파 & 역전파 계산\n",
        "\n",
        "딥러닝 강의(__딥러닝 원리[2] 0:55 ~ 4:32 부분__)에 나오는 순전파 & 역전파 계산에 대한 문제 입니다.\n",
        "\n",
        "해당 영상과 다음 이미지를 참고하여 다음 2가지 물음에 답하세요.\n",
        "\n",
        "\n",
        "(1) 학습률이 0.2 일 경우 출력층의 노드값\n",
        "\n",
        "(2) 학습률이 0.1과 0.2 중 기대출력값이 지도데이터 \"3\"과 더 가까운 학습률은?"
      ]
    },
    {
      "cell_type": "markdown",
      "metadata": {
        "id": "CpwPFWhOUzww",
        "colab_type": "text"
      },
      "source": [
        "![대체 텍스트](https://www.notion.so/image/https%3A%2F%2Fs3-us-west-2.amazonaws.com%2Fsecure.notion-static.com%2Ff54dfd45-92ec-44ae-9616-6949d2484a45%2F_2020-06-10__5.22.03.png?table=block&id=ee05da89-3ceb-4ad9-a2d3-c9f68d24d1d9&width=3580&cache=v2)"
      ]
    },
    {
      "cell_type": "markdown",
      "metadata": {
        "id": "B2OVY7w5U3CI",
        "colab_type": "text"
      },
      "source": [
        "## (1) 학습률이 0.2 일 경우 출력층의 노드값 : 1.6\n",
        "## (2) 학습률이 0.1과 0.2 중 기대출력값이 지도데이터 \"3\"과 더 가까운 학습률은? : 0.1"
      ]
    },
    {
      "cell_type": "code",
      "metadata": {
        "id": "BgavfvqiWxBU",
        "colab_type": "code",
        "colab": {}
      },
      "source": [
        ""
      ],
      "execution_count": 0,
      "outputs": []
    }
  ]
}